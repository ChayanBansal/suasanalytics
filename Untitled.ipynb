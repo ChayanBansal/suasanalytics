{
 "cells": [
  {
   "cell_type": "code",
   "execution_count": 2,
   "metadata": {},
   "outputs": [],
   "source": [
    "import mysql.connector\n",
    "import numpy as np"
   ]
  },
  {
   "cell_type": "code",
   "execution_count": 4,
   "metadata": {},
   "outputs": [
    {
     "name": "stdout",
     "output_type": "stream",
     "text": [
      "INSERT INTO `student_master` VALUES (1,216,'1700AA000200',1,1007,5,5,1,23,'testName','  ','ABC','1997-09-30','1A/G1 JAI SHREE VILLA','SANCHAR NAGAR MAIN KANADIA ROAD','',323,9,1,'452016','','','','1234567890','1A/G1 JAI SHREE VILLA','SANCHAR NAGAR MAIN INDORE','',323,9,1,'123456',113,3,'\u0000',NULL,0,'A',1,0,NULL,100,70,NULL,'abc@student.suas.ac.i','1234','1234',42,'2018-05-31',0,'2017-02-11 00:00:00',NULL,'\u0000','\u0000',NULL);\n",
      "INSERT INTO `srm_gradecard_issued` VALUES ('400','1700AA000200',1111,1,120,1,'pass','3.218609957907086',NULL,'2018-02-17','2018-01-17');\n",
      "INSERT INTO `student_master` VALUES (1,216,'1700AA000201',1,1007,5,5,1,23,'testName','  ','ABC','1997-09-30','1A/G1 JAI SHREE VILLA','SANCHAR NAGAR MAIN KANADIA ROAD','',323,9,1,'452016','','','','1234567890','1A/G1 JAI SHREE VILLA','SANCHAR NAGAR MAIN INDORE','',323,9,1,'123456',113,3,'\u0000',NULL,0,'A',1,0,NULL,100,70,NULL,'abc@student.suas.ac.i','1234','1234',42,'2018-05-31',0,'2017-02-11 00:00:00',NULL,'\u0000','\u0000',NULL);\n",
      "INSERT INTO `srm_gradecard_issued` VALUES ('401','1700AA000201',1111,1,120,1,'pass','5.8450859914530895',NULL,'2018-02-17','2018-01-17');\n",
      "INSERT INTO `student_master` VALUES (1,216,'1700AA000202',1,1007,5,5,1,23,'testName','  ','ABC','1997-09-30','1A/G1 JAI SHREE VILLA','SANCHAR NAGAR MAIN KANADIA ROAD','',323,9,1,'452016','','','','1234567890','1A/G1 JAI SHREE VILLA','SANCHAR NAGAR MAIN INDORE','',323,9,1,'123456',113,3,'\u0000',NULL,0,'A',1,0,NULL,100,70,NULL,'abc@student.suas.ac.i','1234','1234',42,'2018-05-31',0,'2017-02-11 00:00:00',NULL,'\u0000','\u0000',NULL);\n",
      "INSERT INTO `srm_gradecard_issued` VALUES ('402','1700AA000202',1111,1,120,1,'pass','4.995810178900731',NULL,'2018-02-17','2018-01-17');\n",
      "INSERT INTO `student_master` VALUES (1,216,'1700AA000203',1,1007,5,5,1,23,'testName','  ','ABC','1997-09-30','1A/G1 JAI SHREE VILLA','SANCHAR NAGAR MAIN KANADIA ROAD','',323,9,1,'452016','','','','1234567890','1A/G1 JAI SHREE VILLA','SANCHAR NAGAR MAIN INDORE','',323,9,1,'123456',113,3,'\u0000',NULL,0,'A',1,0,NULL,100,70,NULL,'abc@student.suas.ac.i','1234','1234',42,'2018-05-31',0,'2017-02-11 00:00:00',NULL,'\u0000','\u0000',NULL);\n",
      "INSERT INTO `srm_gradecard_issued` VALUES ('403','1700AA000203',1111,1,120,1,'pass','6.096091461220001',NULL,'2018-02-17','2018-01-17');\n",
      "INSERT INTO `student_master` VALUES (1,216,'1700AA000204',1,1007,5,5,1,23,'testName','  ','ABC','1997-09-30','1A/G1 JAI SHREE VILLA','SANCHAR NAGAR MAIN KANADIA ROAD','',323,9,1,'452016','','','','1234567890','1A/G1 JAI SHREE VILLA','SANCHAR NAGAR MAIN INDORE','',323,9,1,'123456',113,3,'\u0000',NULL,0,'A',1,0,NULL,100,70,NULL,'abc@student.suas.ac.i','1234','1234',42,'2018-05-31',0,'2017-02-11 00:00:00',NULL,'\u0000','\u0000',NULL);\n",
      "INSERT INTO `srm_gradecard_issued` VALUES ('404','1700AA000204',1111,1,120,1,'pass','4.535882726579336',NULL,'2018-02-17','2018-01-17');\n",
      "INSERT INTO `student_master` VALUES (1,216,'1700AA000205',1,1007,5,5,1,23,'testName','  ','ABC','1997-09-30','1A/G1 JAI SHREE VILLA','SANCHAR NAGAR MAIN KANADIA ROAD','',323,9,1,'452016','','','','1234567890','1A/G1 JAI SHREE VILLA','SANCHAR NAGAR MAIN INDORE','',323,9,1,'123456',113,3,'\u0000',NULL,0,'A',1,0,NULL,100,70,NULL,'abc@student.suas.ac.i','1234','1234',42,'2018-05-31',0,'2017-02-11 00:00:00',NULL,'\u0000','\u0000',NULL);\n",
      "INSERT INTO `srm_gradecard_issued` VALUES ('405','1700AA000205',1111,1,120,1,'pass','3.7938831554001773',NULL,'2018-02-17','2018-01-17');\n",
      "INSERT INTO `student_master` VALUES (1,216,'1700AA000206',1,1007,5,5,1,23,'testName','  ','ABC','1997-09-30','1A/G1 JAI SHREE VILLA','SANCHAR NAGAR MAIN KANADIA ROAD','',323,9,1,'452016','','','','1234567890','1A/G1 JAI SHREE VILLA','SANCHAR NAGAR MAIN INDORE','',323,9,1,'123456',113,3,'\u0000',NULL,0,'A',1,0,NULL,100,70,NULL,'abc@student.suas.ac.i','1234','1234',42,'2018-05-31',0,'2017-02-11 00:00:00',NULL,'\u0000','\u0000',NULL);\n",
      "INSERT INTO `srm_gradecard_issued` VALUES ('406','1700AA000206',1111,1,120,1,'pass','5.888112971112172',NULL,'2018-02-17','2018-01-17');\n",
      "INSERT INTO `student_master` VALUES (1,216,'1700AA000207',1,1007,5,5,1,23,'testName','  ','ABC','1997-09-30','1A/G1 JAI SHREE VILLA','SANCHAR NAGAR MAIN KANADIA ROAD','',323,9,1,'452016','','','','1234567890','1A/G1 JAI SHREE VILLA','SANCHAR NAGAR MAIN INDORE','',323,9,1,'123456',113,3,'\u0000',NULL,0,'A',1,0,NULL,100,70,NULL,'abc@student.suas.ac.i','1234','1234',42,'2018-05-31',0,'2017-02-11 00:00:00',NULL,'\u0000','\u0000',NULL);\n",
      "INSERT INTO `srm_gradecard_issued` VALUES ('407','1700AA000207',1111,1,120,1,'pass','4.807275495385323',NULL,'2018-02-17','2018-01-17');\n",
      "INSERT INTO `student_master` VALUES (1,216,'1700AA000208',1,1007,5,5,1,23,'testName','  ','ABC','1997-09-30','1A/G1 JAI SHREE VILLA','SANCHAR NAGAR MAIN KANADIA ROAD','',323,9,1,'452016','','','','1234567890','1A/G1 JAI SHREE VILLA','SANCHAR NAGAR MAIN INDORE','',323,9,1,'123456',113,3,'\u0000',NULL,0,'A',1,0,NULL,100,70,NULL,'abc@student.suas.ac.i','1234','1234',42,'2018-05-31',0,'2017-02-11 00:00:00',NULL,'\u0000','\u0000',NULL);\n",
      "INSERT INTO `srm_gradecard_issued` VALUES ('408','1700AA000208',1111,1,120,1,'pass','2.9980436840894704',NULL,'2018-02-17','2018-01-17');\n",
      "INSERT INTO `student_master` VALUES (1,216,'1700AA000209',1,1007,5,5,1,23,'testName','  ','ABC','1997-09-30','1A/G1 JAI SHREE VILLA','SANCHAR NAGAR MAIN KANADIA ROAD','',323,9,1,'452016','','','','1234567890','1A/G1 JAI SHREE VILLA','SANCHAR NAGAR MAIN INDORE','',323,9,1,'123456',113,3,'\u0000',NULL,0,'A',1,0,NULL,100,70,NULL,'abc@student.suas.ac.i','1234','1234',42,'2018-05-31',0,'2017-02-11 00:00:00',NULL,'\u0000','\u0000',NULL);\n",
      "INSERT INTO `srm_gradecard_issued` VALUES ('409','1700AA000209',1111,1,120,1,'pass','6.108688739272308',NULL,'2018-02-17','2018-01-17');\n",
      "INSERT INTO `student_master` VALUES (1,216,'1700AA000210',1,1007,5,5,1,23,'testName','  ','ABC','1997-09-30','1A/G1 JAI SHREE VILLA','SANCHAR NAGAR MAIN KANADIA ROAD','',323,9,1,'452016','','','','1234567890','1A/G1 JAI SHREE VILLA','SANCHAR NAGAR MAIN INDORE','',323,9,1,'123456',113,3,'\u0000',NULL,0,'A',1,0,NULL,100,70,NULL,'abc@student.suas.ac.i','1234','1234',42,'2018-05-31',0,'2017-02-11 00:00:00',NULL,'\u0000','\u0000',NULL);\n",
      "INSERT INTO `srm_gradecard_issued` VALUES ('410','1700AA000210',1111,1,120,1,'pass','4.876671918799062',NULL,'2018-02-17','2018-01-17');\n",
      "INSERT INTO `student_master` VALUES (1,216,'1700AA000211',1,1007,5,5,1,23,'testName','  ','ABC','1997-09-30','1A/G1 JAI SHREE VILLA','SANCHAR NAGAR MAIN KANADIA ROAD','',323,9,1,'452016','','','','1234567890','1A/G1 JAI SHREE VILLA','SANCHAR NAGAR MAIN INDORE','',323,9,1,'123456',113,3,'\u0000',NULL,0,'A',1,0,NULL,100,70,NULL,'abc@student.suas.ac.i','1234','1234',42,'2018-05-31',0,'2017-02-11 00:00:00',NULL,'\u0000','\u0000',NULL);\n",
      "INSERT INTO `srm_gradecard_issued` VALUES ('411','1700AA000211',1111,1,120,1,'pass','5.235301910968272',NULL,'2018-02-17','2018-01-17');\n",
      "INSERT INTO `student_master` VALUES (1,216,'1700AA000212',1,1007,5,5,1,23,'testName','  ','ABC','1997-09-30','1A/G1 JAI SHREE VILLA','SANCHAR NAGAR MAIN KANADIA ROAD','',323,9,1,'452016','','','','1234567890','1A/G1 JAI SHREE VILLA','SANCHAR NAGAR MAIN INDORE','',323,9,1,'123456',113,3,'\u0000',NULL,0,'A',1,0,NULL,100,70,NULL,'abc@student.suas.ac.i','1234','1234',42,'2018-05-31',0,'2017-02-11 00:00:00',NULL,'\u0000','\u0000',NULL);\n",
      "INSERT INTO `srm_gradecard_issued` VALUES ('412','1700AA000212',1111,1,120,1,'pass','3.868067246542685',NULL,'2018-02-17','2018-01-17');\n",
      "INSERT INTO `student_master` VALUES (1,216,'1700AA000213',1,1007,5,5,1,23,'testName','  ','ABC','1997-09-30','1A/G1 JAI SHREE VILLA','SANCHAR NAGAR MAIN KANADIA ROAD','',323,9,1,'452016','','','','1234567890','1A/G1 JAI SHREE VILLA','SANCHAR NAGAR MAIN INDORE','',323,9,1,'123456',113,3,'\u0000',NULL,0,'A',1,0,NULL,100,70,NULL,'abc@student.suas.ac.i','1234','1234',42,'2018-05-31',0,'2017-02-11 00:00:00',NULL,'\u0000','\u0000',NULL);\n",
      "INSERT INTO `srm_gradecard_issued` VALUES ('413','1700AA000213',1111,1,120,1,'pass','5.899325145877935',NULL,'2018-02-17','2018-01-17');\n",
      "INSERT INTO `student_master` VALUES (1,216,'1700AA000214',1,1007,5,5,1,23,'testName','  ','ABC','1997-09-30','1A/G1 JAI SHREE VILLA','SANCHAR NAGAR MAIN KANADIA ROAD','',323,9,1,'452016','','','','1234567890','1A/G1 JAI SHREE VILLA','SANCHAR NAGAR MAIN INDORE','',323,9,1,'123456',113,3,'\u0000',NULL,0,'A',1,0,NULL,100,70,NULL,'abc@student.suas.ac.i','1234','1234',42,'2018-05-31',0,'2017-02-11 00:00:00',NULL,'\u0000','\u0000',NULL);\n",
      "INSERT INTO `srm_gradecard_issued` VALUES ('414','1700AA000214',1111,1,120,1,'pass','4.744807216438715',NULL,'2018-02-17','2018-01-17');\n",
      "INSERT INTO `student_master` VALUES (1,216,'1700AA000215',1,1007,5,5,1,23,'testName','  ','ABC','1997-09-30','1A/G1 JAI SHREE VILLA','SANCHAR NAGAR MAIN KANADIA ROAD','',323,9,1,'452016','','','','1234567890','1A/G1 JAI SHREE VILLA','SANCHAR NAGAR MAIN INDORE','',323,9,1,'123456',113,3,'\u0000',NULL,0,'A',1,0,NULL,100,70,NULL,'abc@student.suas.ac.i','1234','1234',42,'2018-05-31',0,'2017-02-11 00:00:00',NULL,'\u0000','\u0000',NULL);\n",
      "INSERT INTO `srm_gradecard_issued` VALUES ('415','1700AA000215',1111,1,120,1,'pass','4.852868137723756',NULL,'2018-02-17','2018-01-17');\n",
      "INSERT INTO `student_master` VALUES (1,216,'1700AA000216',1,1007,5,5,1,23,'testName','  ','ABC','1997-09-30','1A/G1 JAI SHREE VILLA','SANCHAR NAGAR MAIN KANADIA ROAD','',323,9,1,'452016','','','','1234567890','1A/G1 JAI SHREE VILLA','SANCHAR NAGAR MAIN INDORE','',323,9,1,'123456',113,3,'\u0000',NULL,0,'A',1,0,NULL,100,70,NULL,'abc@student.suas.ac.i','1234','1234',42,'2018-05-31',0,'2017-02-11 00:00:00',NULL,'\u0000','\u0000',NULL);\n",
      "INSERT INTO `srm_gradecard_issued` VALUES ('416','1700AA000216',1111,1,120,1,'pass','5.905127447935813',NULL,'2018-02-17','2018-01-17');\n",
      "INSERT INTO `student_master` VALUES (1,216,'1700AA000217',1,1007,5,5,1,23,'testName','  ','ABC','1997-09-30','1A/G1 JAI SHREE VILLA','SANCHAR NAGAR MAIN KANADIA ROAD','',323,9,1,'452016','','','','1234567890','1A/G1 JAI SHREE VILLA','SANCHAR NAGAR MAIN INDORE','',323,9,1,'123456',113,3,'\u0000',NULL,0,'A',1,0,NULL,100,70,NULL,'abc@student.suas.ac.i','1234','1234',42,'2018-05-31',0,'2017-02-11 00:00:00',NULL,'\u0000','\u0000',NULL);\n",
      "INSERT INTO `srm_gradecard_issued` VALUES ('417','1700AA000217',1111,1,120,1,'pass','5.858154363554747',NULL,'2018-02-17','2018-01-17');\n",
      "INSERT INTO `student_master` VALUES (1,216,'1700AA000218',1,1007,5,5,1,23,'testName','  ','ABC','1997-09-30','1A/G1 JAI SHREE VILLA','SANCHAR NAGAR MAIN KANADIA ROAD','',323,9,1,'452016','','','','1234567890','1A/G1 JAI SHREE VILLA','SANCHAR NAGAR MAIN INDORE','',323,9,1,'123456',113,3,'\u0000',NULL,0,'A',1,0,NULL,100,70,NULL,'abc@student.suas.ac.i','1234','1234',42,'2018-05-31',0,'2017-02-11 00:00:00',NULL,'\u0000','\u0000',NULL);\n",
      "INSERT INTO `srm_gradecard_issued` VALUES ('418','1700AA000218',1111,1,120,1,'pass','7.580147801090292',NULL,'2018-02-17','2018-01-17');\n",
      "INSERT INTO `student_master` VALUES (1,216,'1700AA000219',1,1007,5,5,1,23,'testName','  ','ABC','1997-09-30','1A/G1 JAI SHREE VILLA','SANCHAR NAGAR MAIN KANADIA ROAD','',323,9,1,'452016','','','','1234567890','1A/G1 JAI SHREE VILLA','SANCHAR NAGAR MAIN INDORE','',323,9,1,'123456',113,3,'\u0000',NULL,0,'A',1,0,NULL,100,70,NULL,'abc@student.suas.ac.i','1234','1234',42,'2018-05-31',0,'2017-02-11 00:00:00',NULL,'\u0000','\u0000',NULL);\n",
      "INSERT INTO `srm_gradecard_issued` VALUES ('419','1700AA000219',1111,1,120,1,'pass','5.155749135064795',NULL,'2018-02-17','2018-01-17');\n",
      "INSERT INTO `student_master` VALUES (1,216,'1700AA000220',1,1007,5,5,1,23,'testName','  ','ABC','1997-09-30','1A/G1 JAI SHREE VILLA','SANCHAR NAGAR MAIN KANADIA ROAD','',323,9,1,'452016','','','','1234567890','1A/G1 JAI SHREE VILLA','SANCHAR NAGAR MAIN INDORE','',323,9,1,'123456',113,3,'\u0000',NULL,0,'A',1,0,NULL,100,70,NULL,'abc@student.suas.ac.i','1234','1234',42,'2018-05-31',0,'2017-02-11 00:00:00',NULL,'\u0000','\u0000',NULL);\n",
      "INSERT INTO `srm_gradecard_issued` VALUES ('420','1700AA000220',1111,1,120,1,'pass','7.148982168627516',NULL,'2018-02-17','2018-01-17');\n",
      "INSERT INTO `student_master` VALUES (1,216,'1700AA000221',1,1007,5,5,1,23,'testName','  ','ABC','1997-09-30','1A/G1 JAI SHREE VILLA','SANCHAR NAGAR MAIN KANADIA ROAD','',323,9,1,'452016','','','','1234567890','1A/G1 JAI SHREE VILLA','SANCHAR NAGAR MAIN INDORE','',323,9,1,'123456',113,3,'\u0000',NULL,0,'A',1,0,NULL,100,70,NULL,'abc@student.suas.ac.i','1234','1234',42,'2018-05-31',0,'2017-02-11 00:00:00',NULL,'\u0000','\u0000',NULL);\n",
      "INSERT INTO `srm_gradecard_issued` VALUES ('421','1700AA000221',1111,1,120,1,'pass','5.868500204751915',NULL,'2018-02-17','2018-01-17');\n",
      "INSERT INTO `student_master` VALUES (1,216,'1700AA000222',1,1007,5,5,1,23,'testName','  ','ABC','1997-09-30','1A/G1 JAI SHREE VILLA','SANCHAR NAGAR MAIN KANADIA ROAD','',323,9,1,'452016','','','','1234567890','1A/G1 JAI SHREE VILLA','SANCHAR NAGAR MAIN INDORE','',323,9,1,'123456',113,3,'\u0000',NULL,0,'A',1,0,NULL,100,70,NULL,'abc@student.suas.ac.i','1234','1234',42,'2018-05-31',0,'2017-02-11 00:00:00',NULL,'\u0000','\u0000',NULL);\n",
      "INSERT INTO `srm_gradecard_issued` VALUES ('422','1700AA000222',1111,1,120,1,'pass','6.754775919275975',NULL,'2018-02-17','2018-01-17');\n",
      "INSERT INTO `student_master` VALUES (1,216,'1700AA000223',1,1007,5,5,1,23,'testName','  ','ABC','1997-09-30','1A/G1 JAI SHREE VILLA','SANCHAR NAGAR MAIN KANADIA ROAD','',323,9,1,'452016','','','','1234567890','1A/G1 JAI SHREE VILLA','SANCHAR NAGAR MAIN INDORE','',323,9,1,'123456',113,3,'\u0000',NULL,0,'A',1,0,NULL,100,70,NULL,'abc@student.suas.ac.i','1234','1234',42,'2018-05-31',0,'2017-02-11 00:00:00',NULL,'\u0000','\u0000',NULL);\n",
      "INSERT INTO `srm_gradecard_issued` VALUES ('423','1700AA000223',1111,1,120,1,'pass','6.829989040627589',NULL,'2018-02-17','2018-01-17');\n",
      "INSERT INTO `student_master` VALUES (1,216,'1700AA000224',1,1007,5,5,1,23,'testName','  ','ABC','1997-09-30','1A/G1 JAI SHREE VILLA','SANCHAR NAGAR MAIN KANADIA ROAD','',323,9,1,'452016','','','','1234567890','1A/G1 JAI SHREE VILLA','SANCHAR NAGAR MAIN INDORE','',323,9,1,'123456',113,3,'\u0000',NULL,0,'A',1,0,NULL,100,70,NULL,'abc@student.suas.ac.i','1234','1234',42,'2018-05-31',0,'2017-02-11 00:00:00',NULL,'\u0000','\u0000',NULL);\n",
      "INSERT INTO `srm_gradecard_issued` VALUES ('424','1700AA000224',1111,1,120,1,'pass','6.824260032472137',NULL,'2018-02-17','2018-01-17');\n",
      "INSERT INTO `student_master` VALUES (1,216,'1700AA000225',1,1007,5,5,1,23,'testName','  ','ABC','1997-09-30','1A/G1 JAI SHREE VILLA','SANCHAR NAGAR MAIN KANADIA ROAD','',323,9,1,'452016','','','','1234567890','1A/G1 JAI SHREE VILLA','SANCHAR NAGAR MAIN INDORE','',323,9,1,'123456',113,3,'\u0000',NULL,0,'A',1,0,NULL,100,70,NULL,'abc@student.suas.ac.i','1234','1234',42,'2018-05-31',0,'2017-02-11 00:00:00',NULL,'\u0000','\u0000',NULL);\n",
      "INSERT INTO `srm_gradecard_issued` VALUES ('425','1700AA000225',1111,1,120,1,'pass','5.3058543512473495',NULL,'2018-02-17','2018-01-17');\n",
      "INSERT INTO `student_master` VALUES (1,216,'1700AA000226',1,1007,5,5,1,23,'testName','  ','ABC','1997-09-30','1A/G1 JAI SHREE VILLA','SANCHAR NAGAR MAIN KANADIA ROAD','',323,9,1,'452016','','','','1234567890','1A/G1 JAI SHREE VILLA','SANCHAR NAGAR MAIN INDORE','',323,9,1,'123456',113,3,'\u0000',NULL,0,'A',1,0,NULL,100,70,NULL,'abc@student.suas.ac.i','1234','1234',42,'2018-05-31',0,'2017-02-11 00:00:00',NULL,'\u0000','\u0000',NULL);\n",
      "INSERT INTO `srm_gradecard_issued` VALUES ('426','1700AA000226',1111,1,120,1,'pass','5.948243756848328',NULL,'2018-02-17','2018-01-17');\n",
      "INSERT INTO `student_master` VALUES (1,216,'1700AA000227',1,1007,5,5,1,23,'testName','  ','ABC','1997-09-30','1A/G1 JAI SHREE VILLA','SANCHAR NAGAR MAIN KANADIA ROAD','',323,9,1,'452016','','','','1234567890','1A/G1 JAI SHREE VILLA','SANCHAR NAGAR MAIN INDORE','',323,9,1,'123456',113,3,'\u0000',NULL,0,'A',1,0,NULL,100,70,NULL,'abc@student.suas.ac.i','1234','1234',42,'2018-05-31',0,'2017-02-11 00:00:00',NULL,'\u0000','\u0000',NULL);\n",
      "INSERT INTO `srm_gradecard_issued` VALUES ('427','1700AA000227',1111,1,120,1,'pass','7.282239567833831',NULL,'2018-02-17','2018-01-17');\n",
      "INSERT INTO `student_master` VALUES (1,216,'1700AA000228',1,1007,5,5,1,23,'testName','  ','ABC','1997-09-30','1A/G1 JAI SHREE VILLA','SANCHAR NAGAR MAIN KANADIA ROAD','',323,9,1,'452016','','','','1234567890','1A/G1 JAI SHREE VILLA','SANCHAR NAGAR MAIN INDORE','',323,9,1,'123456',113,3,'\u0000',NULL,0,'A',1,0,NULL,100,70,NULL,'abc@student.suas.ac.i','1234','1234',42,'2018-05-31',0,'2017-02-11 00:00:00',NULL,'\u0000','\u0000',NULL);\n",
      "INSERT INTO `srm_gradecard_issued` VALUES ('428','1700AA000228',1111,1,120,1,'pass','4.436280723282154',NULL,'2018-02-17','2018-01-17');\n",
      "INSERT INTO `student_master` VALUES (1,216,'1700AA000229',1,1007,5,5,1,23,'testName','  ','ABC','1997-09-30','1A/G1 JAI SHREE VILLA','SANCHAR NAGAR MAIN KANADIA ROAD','',323,9,1,'452016','','','','1234567890','1A/G1 JAI SHREE VILLA','SANCHAR NAGAR MAIN INDORE','',323,9,1,'123456',113,3,'\u0000',NULL,0,'A',1,0,NULL,100,70,NULL,'abc@student.suas.ac.i','1234','1234',42,'2018-05-31',0,'2017-02-11 00:00:00',NULL,'\u0000','\u0000',NULL);\n",
      "INSERT INTO `srm_gradecard_issued` VALUES ('429','1700AA000229',1111,1,120,1,'pass','6.225752223084613',NULL,'2018-02-17','2018-01-17');\n",
      "INSERT INTO `student_master` VALUES (1,216,'1700AA000230',1,1007,5,5,1,23,'testName','  ','ABC','1997-09-30','1A/G1 JAI SHREE VILLA','SANCHAR NAGAR MAIN KANADIA ROAD','',323,9,1,'452016','','','','1234567890','1A/G1 JAI SHREE VILLA','SANCHAR NAGAR MAIN INDORE','',323,9,1,'123456',113,3,'\u0000',NULL,0,'A',1,0,NULL,100,70,NULL,'abc@student.suas.ac.i','1234','1234',42,'2018-05-31',0,'2017-02-11 00:00:00',NULL,'\u0000','\u0000',NULL);\n",
      "INSERT INTO `srm_gradecard_issued` VALUES ('430','1700AA000230',1111,1,120,1,'pass','6.575821502490911',NULL,'2018-02-17','2018-01-17');\n",
      "INSERT INTO `student_master` VALUES (1,216,'1700AA000231',1,1007,5,5,1,23,'testName','  ','ABC','1997-09-30','1A/G1 JAI SHREE VILLA','SANCHAR NAGAR MAIN KANADIA ROAD','',323,9,1,'452016','','','','1234567890','1A/G1 JAI SHREE VILLA','SANCHAR NAGAR MAIN INDORE','',323,9,1,'123456',113,3,'\u0000',NULL,0,'A',1,0,NULL,100,70,NULL,'abc@student.suas.ac.i','1234','1234',42,'2018-05-31',0,'2017-02-11 00:00:00',NULL,'\u0000','\u0000',NULL);\n",
      "INSERT INTO `srm_gradecard_issued` VALUES ('431','1700AA000231',1111,1,120,1,'pass','8.348778663276047',NULL,'2018-02-17','2018-01-17');\n",
      "INSERT INTO `student_master` VALUES (1,216,'1700AA000232',1,1007,5,5,1,23,'testName','  ','ABC','1997-09-30','1A/G1 JAI SHREE VILLA','SANCHAR NAGAR MAIN KANADIA ROAD','',323,9,1,'452016','','','','1234567890','1A/G1 JAI SHREE VILLA','SANCHAR NAGAR MAIN INDORE','',323,9,1,'123456',113,3,'\u0000',NULL,0,'A',1,0,NULL,100,70,NULL,'abc@student.suas.ac.i','1234','1234',42,'2018-05-31',0,'2017-02-11 00:00:00',NULL,'\u0000','\u0000',NULL);\n",
      "INSERT INTO `srm_gradecard_issued` VALUES ('432','1700AA000232',1111,1,120,1,'pass','7.332332107431711',NULL,'2018-02-17','2018-01-17');\n",
      "INSERT INTO `student_master` VALUES (1,216,'1700AA000233',1,1007,5,5,1,23,'testName','  ','ABC','1997-09-30','1A/G1 JAI SHREE VILLA','SANCHAR NAGAR MAIN KANADIA ROAD','',323,9,1,'452016','','','','1234567890','1A/G1 JAI SHREE VILLA','SANCHAR NAGAR MAIN INDORE','',323,9,1,'123456',113,3,'\u0000',NULL,0,'A',1,0,NULL,100,70,NULL,'abc@student.suas.ac.i','1234','1234',42,'2018-05-31',0,'2017-02-11 00:00:00',NULL,'\u0000','\u0000',NULL);\n",
      "INSERT INTO `srm_gradecard_issued` VALUES ('433','1700AA000233',1111,1,120,1,'pass','10.0',NULL,'2018-02-17','2018-01-17');\n",
      "INSERT INTO `student_master` VALUES (1,216,'1700AA000234',1,1007,5,5,1,23,'testName','  ','ABC','1997-09-30','1A/G1 JAI SHREE VILLA','SANCHAR NAGAR MAIN KANADIA ROAD','',323,9,1,'452016','','','','1234567890','1A/G1 JAI SHREE VILLA','SANCHAR NAGAR MAIN INDORE','',323,9,1,'123456',113,3,'\u0000',NULL,0,'A',1,0,NULL,100,70,NULL,'abc@student.suas.ac.i','1234','1234',42,'2018-05-31',0,'2017-02-11 00:00:00',NULL,'\u0000','\u0000',NULL);\n",
      "INSERT INTO `srm_gradecard_issued` VALUES ('434','1700AA000234',1111,1,120,1,'pass','8.704355142971837',NULL,'2018-02-17','2018-01-17');\n",
      "INSERT INTO `student_master` VALUES (1,216,'1700AA000235',1,1007,5,5,1,23,'testName','  ','ABC','1997-09-30','1A/G1 JAI SHREE VILLA','SANCHAR NAGAR MAIN KANADIA ROAD','',323,9,1,'452016','','','','1234567890','1A/G1 JAI SHREE VILLA','SANCHAR NAGAR MAIN INDORE','',323,9,1,'123456',113,3,'\u0000',NULL,0,'A',1,0,NULL,100,70,NULL,'abc@student.suas.ac.i','1234','1234',42,'2018-05-31',0,'2017-02-11 00:00:00',NULL,'\u0000','\u0000',NULL);\n",
      "INSERT INTO `srm_gradecard_issued` VALUES ('435','1700AA000235',1111,1,120,1,'pass','8.758535446127095',NULL,'2018-02-17','2018-01-17');\n",
      "INSERT INTO `student_master` VALUES (1,216,'1700AA000236',1,1007,5,5,1,23,'testName','  ','ABC','1997-09-30','1A/G1 JAI SHREE VILLA','SANCHAR NAGAR MAIN KANADIA ROAD','',323,9,1,'452016','','','','1234567890','1A/G1 JAI SHREE VILLA','SANCHAR NAGAR MAIN INDORE','',323,9,1,'123456',113,3,'\u0000',NULL,0,'A',1,0,NULL,100,70,NULL,'abc@student.suas.ac.i','1234','1234',42,'2018-05-31',0,'2017-02-11 00:00:00',NULL,'\u0000','\u0000',NULL);\n",
      "INSERT INTO `srm_gradecard_issued` VALUES ('436','1700AA000236',1111,1,120,1,'pass','9.415222202267774',NULL,'2018-02-17','2018-01-17');\n",
      "INSERT INTO `student_master` VALUES (1,216,'1700AA000237',1,1007,5,5,1,23,'testName','  ','ABC','1997-09-30','1A/G1 JAI SHREE VILLA','SANCHAR NAGAR MAIN KANADIA ROAD','',323,9,1,'452016','','','','1234567890','1A/G1 JAI SHREE VILLA','SANCHAR NAGAR MAIN INDORE','',323,9,1,'123456',113,3,'\u0000',NULL,0,'A',1,0,NULL,100,70,NULL,'abc@student.suas.ac.i','1234','1234',42,'2018-05-31',0,'2017-02-11 00:00:00',NULL,'\u0000','\u0000',NULL);\n",
      "INSERT INTO `srm_gradecard_issued` VALUES ('437','1700AA000237',1111,1,120,1,'pass','6.292677252389888',NULL,'2018-02-17','2018-01-17');\n",
      "INSERT INTO `student_master` VALUES (1,216,'1700AA000238',1,1007,5,5,1,23,'testName','  ','ABC','1997-09-30','1A/G1 JAI SHREE VILLA','SANCHAR NAGAR MAIN KANADIA ROAD','',323,9,1,'452016','','','','1234567890','1A/G1 JAI SHREE VILLA','SANCHAR NAGAR MAIN INDORE','',323,9,1,'123456',113,3,'\u0000',NULL,0,'A',1,0,NULL,100,70,NULL,'abc@student.suas.ac.i','1234','1234',42,'2018-05-31',0,'2017-02-11 00:00:00',NULL,'\u0000','\u0000',NULL);\n",
      "INSERT INTO `srm_gradecard_issued` VALUES ('438','1700AA000238',1111,1,120,1,'pass','9.621190838208447',NULL,'2018-02-17','2018-01-17');\n",
      "INSERT INTO `student_master` VALUES (1,216,'1700AA000239',1,1007,5,5,1,23,'testName','  ','ABC','1997-09-30','1A/G1 JAI SHREE VILLA','SANCHAR NAGAR MAIN KANADIA ROAD','',323,9,1,'452016','','','','1234567890','1A/G1 JAI SHREE VILLA','SANCHAR NAGAR MAIN INDORE','',323,9,1,'123456',113,3,'\u0000',NULL,0,'A',1,0,NULL,100,70,NULL,'abc@student.suas.ac.i','1234','1234',42,'2018-05-31',0,'2017-02-11 00:00:00',NULL,'\u0000','\u0000',NULL);\n",
      "INSERT INTO `srm_gradecard_issued` VALUES ('439','1700AA000239',1111,1,120,1,'pass','7.563952557637539',NULL,'2018-02-17','2018-01-17');\n",
      "INSERT INTO `student_master` VALUES (1,216,'1700AA000240',1,1007,5,5,1,23,'testName','  ','ABC','1997-09-30','1A/G1 JAI SHREE VILLA','SANCHAR NAGAR MAIN KANADIA ROAD','',323,9,1,'452016','','','','1234567890','1A/G1 JAI SHREE VILLA','SANCHAR NAGAR MAIN INDORE','',323,9,1,'123456',113,3,'\u0000',NULL,0,'A',1,0,NULL,100,70,NULL,'abc@student.suas.ac.i','1234','1234',42,'2018-05-31',0,'2017-02-11 00:00:00',NULL,'\u0000','\u0000',NULL);\n",
      "INSERT INTO `srm_gradecard_issued` VALUES ('440','1700AA000240',1111,1,120,1,'pass','7.813459569019172',NULL,'2018-02-17','2018-01-17');\n",
      "INSERT INTO `student_master` VALUES (1,216,'1700AA000241',1,1007,5,5,1,23,'testName','  ','ABC','1997-09-30','1A/G1 JAI SHREE VILLA','SANCHAR NAGAR MAIN KANADIA ROAD','',323,9,1,'452016','','','','1234567890','1A/G1 JAI SHREE VILLA','SANCHAR NAGAR MAIN INDORE','',323,9,1,'123456',113,3,'\u0000',NULL,0,'A',1,0,NULL,100,70,NULL,'abc@student.suas.ac.i','1234','1234',42,'2018-05-31',0,'2017-02-11 00:00:00',NULL,'\u0000','\u0000',NULL);\n",
      "INSERT INTO `srm_gradecard_issued` VALUES ('441','1700AA000241',1111,1,120,1,'pass','7.0184523128325536',NULL,'2018-02-17','2018-01-17');\n",
      "INSERT INTO `student_master` VALUES (1,216,'1700AA000242',1,1007,5,5,1,23,'testName','  ','ABC','1997-09-30','1A/G1 JAI SHREE VILLA','SANCHAR NAGAR MAIN KANADIA ROAD','',323,9,1,'452016','','','','1234567890','1A/G1 JAI SHREE VILLA','SANCHAR NAGAR MAIN INDORE','',323,9,1,'123456',113,3,'\u0000',NULL,0,'A',1,0,NULL,100,70,NULL,'abc@student.suas.ac.i','1234','1234',42,'2018-05-31',0,'2017-02-11 00:00:00',NULL,'\u0000','\u0000',NULL);\n",
      "INSERT INTO `srm_gradecard_issued` VALUES ('442','1700AA000242',1111,1,120,1,'pass','9.626752823062692',NULL,'2018-02-17','2018-01-17');\n",
      "INSERT INTO `student_master` VALUES (1,216,'1700AA000243',1,1007,5,5,1,23,'testName','  ','ABC','1997-09-30','1A/G1 JAI SHREE VILLA','SANCHAR NAGAR MAIN KANADIA ROAD','',323,9,1,'452016','','','','1234567890','1A/G1 JAI SHREE VILLA','SANCHAR NAGAR MAIN INDORE','',323,9,1,'123456',113,3,'\u0000',NULL,0,'A',1,0,NULL,100,70,NULL,'abc@student.suas.ac.i','1234','1234',42,'2018-05-31',0,'2017-02-11 00:00:00',NULL,'\u0000','\u0000',NULL);\n",
      "INSERT INTO `srm_gradecard_issued` VALUES ('443','1700AA000243',1111,1,120,1,'pass','9.167578207754486',NULL,'2018-02-17','2018-01-17');\n",
      "INSERT INTO `student_master` VALUES (1,216,'1700AA000244',1,1007,5,5,1,23,'testName','  ','ABC','1997-09-30','1A/G1 JAI SHREE VILLA','SANCHAR NAGAR MAIN KANADIA ROAD','',323,9,1,'452016','','','','1234567890','1A/G1 JAI SHREE VILLA','SANCHAR NAGAR MAIN INDORE','',323,9,1,'123456',113,3,'\u0000',NULL,0,'A',1,0,NULL,100,70,NULL,'abc@student.suas.ac.i','1234','1234',42,'2018-05-31',0,'2017-02-11 00:00:00',NULL,'\u0000','\u0000',NULL);\n",
      "INSERT INTO `srm_gradecard_issued` VALUES ('444','1700AA000244',1111,1,120,1,'pass','9.909068913852698',NULL,'2018-02-17','2018-01-17');\n",
      "INSERT INTO `student_master` VALUES (1,216,'1700AA000245',1,1007,5,5,1,23,'testName','  ','ABC','1997-09-30','1A/G1 JAI SHREE VILLA','SANCHAR NAGAR MAIN KANADIA ROAD','',323,9,1,'452016','','','','1234567890','1A/G1 JAI SHREE VILLA','SANCHAR NAGAR MAIN INDORE','',323,9,1,'123456',113,3,'\u0000',NULL,0,'A',1,0,NULL,100,70,NULL,'abc@student.suas.ac.i','1234','1234',42,'2018-05-31',0,'2017-02-11 00:00:00',NULL,'\u0000','\u0000',NULL);\n",
      "INSERT INTO `srm_gradecard_issued` VALUES ('445','1700AA000245',1111,1,120,1,'pass','9.927456179799574',NULL,'2018-02-17','2018-01-17');\n",
      "INSERT INTO `student_master` VALUES (1,216,'1700AA000246',1,1007,5,5,1,23,'testName','  ','ABC','1997-09-30','1A/G1 JAI SHREE VILLA','SANCHAR NAGAR MAIN KANADIA ROAD','',323,9,1,'452016','','','','1234567890','1A/G1 JAI SHREE VILLA','SANCHAR NAGAR MAIN INDORE','',323,9,1,'123456',113,3,'\u0000',NULL,0,'A',1,0,NULL,100,70,NULL,'abc@student.suas.ac.i','1234','1234',42,'2018-05-31',0,'2017-02-11 00:00:00',NULL,'\u0000','\u0000',NULL);\n",
      "INSERT INTO `srm_gradecard_issued` VALUES ('446','1700AA000246',1111,1,120,1,'pass','8.883140641969531',NULL,'2018-02-17','2018-01-17');\n",
      "INSERT INTO `student_master` VALUES (1,216,'1700AA000247',1,1007,5,5,1,23,'testName','  ','ABC','1997-09-30','1A/G1 JAI SHREE VILLA','SANCHAR NAGAR MAIN KANADIA ROAD','',323,9,1,'452016','','','','1234567890','1A/G1 JAI SHREE VILLA','SANCHAR NAGAR MAIN INDORE','',323,9,1,'123456',113,3,'\u0000',NULL,0,'A',1,0,NULL,100,70,NULL,'abc@student.suas.ac.i','1234','1234',42,'2018-05-31',0,'2017-02-11 00:00:00',NULL,'\u0000','\u0000',NULL);\n",
      "INSERT INTO `srm_gradecard_issued` VALUES ('447','1700AA000247',1111,1,120,1,'pass','9.46230386493727',NULL,'2018-02-17','2018-01-17');\n",
      "INSERT INTO `student_master` VALUES (1,216,'1700AA000248',1,1007,5,5,1,23,'testName','  ','ABC','1997-09-30','1A/G1 JAI SHREE VILLA','SANCHAR NAGAR MAIN KANADIA ROAD','',323,9,1,'452016','','','','1234567890','1A/G1 JAI SHREE VILLA','SANCHAR NAGAR MAIN INDORE','',323,9,1,'123456',113,3,'\u0000',NULL,0,'A',1,0,NULL,100,70,NULL,'abc@student.suas.ac.i','1234','1234',42,'2018-05-31',0,'2017-02-11 00:00:00',NULL,'\u0000','\u0000',NULL);\n",
      "INSERT INTO `srm_gradecard_issued` VALUES ('448','1700AA000248',1111,1,120,1,'pass','9.113933753269421',NULL,'2018-02-17','2018-01-17');\n",
      "INSERT INTO `student_master` VALUES (1,216,'1700AA000249',1,1007,5,5,1,23,'testName','  ','ABC','1997-09-30','1A/G1 JAI SHREE VILLA','SANCHAR NAGAR MAIN KANADIA ROAD','',323,9,1,'452016','','','','1234567890','1A/G1 JAI SHREE VILLA','SANCHAR NAGAR MAIN INDORE','',323,9,1,'123456',113,3,'\u0000',NULL,0,'A',1,0,NULL,100,70,NULL,'abc@student.suas.ac.i','1234','1234',42,'2018-05-31',0,'2017-02-11 00:00:00',NULL,'\u0000','\u0000',NULL);\n",
      "INSERT INTO `srm_gradecard_issued` VALUES ('449','1700AA000249',1111,1,120,1,'pass','9.177976967975894',NULL,'2018-02-17','2018-01-17');\n"
     ]
    }
   ],
   "source": [
    "j=np.linspace(4,9,50)\n",
    "seq=np.random.randn(50)\n",
    "data=j+seq\n",
    "for i in range(200,250): \n",
    "    if data[i-200]>10:\n",
    "        data[i-200]=10\n",
    "    q1=\"INSERT INTO `student_master` VALUES (1,216,'1700AA000\"+str(i)+\"',1,1007,5,5,1,23,'testName','  ','ABC','1997-09-30','1A/G1 JAI SHREE VILLA','SANCHAR NAGAR MAIN KANADIA ROAD','',323,9,1,'452016','','','','1234567890','1A/G1 JAI SHREE VILLA','SANCHAR NAGAR MAIN INDORE','',323,9,1,'123456',113,3,'\\0',NULL,0,'A',1,0,NULL,100,70,NULL,'abc@student.suas.ac.i','1234','1234',42,'2018-05-31',0,'2017-02-11 00:00:00',NULL,'\\0','\\0',NULL);\"\n",
    "    q2=\"INSERT INTO `srm_gradecard_issued` VALUES ('\"+str(i+200)+\"','1700AA000\"+str(i)+\"',1111,1,120,1,'pass','\"+str(data[i-200])+\"',NULL,'2018-02-17','2018-01-17');\"\n",
    "    print(q1)\n",
    "    print(q2)\n",
    "    "
   ]
  },
  {
   "cell_type": "code",
   "execution_count": 86,
   "metadata": {},
   "outputs": [
    {
     "data": {
      "text/plain": [
       "array([ 0.55621431, -1.22197866, -0.7383687 , -0.12101449, -0.56680895,\n",
       "       -1.45183659,  0.27874657, -1.78075405,  0.48409883, -0.99030428])"
      ]
     },
     "execution_count": 86,
     "metadata": {},
     "output_type": "execute_result"
    }
   ],
   "source": [
    "np.random.randn(10)"
   ]
  },
  {
   "cell_type": "code",
   "execution_count": 7,
   "metadata": {},
   "outputs": [
    {
     "data": {
      "text/plain": [
       "140"
      ]
     },
     "execution_count": 7,
     "metadata": {},
     "output_type": "execute_result"
    }
   ],
   "source": [
    "j=np.linspace(7.2,9.7,140)\n",
    "len(j)"
   ]
  },
  {
   "cell_type": "code",
   "execution_count": 5,
   "metadata": {},
   "outputs": [
    {
     "name": "stdout",
     "output_type": "stream",
     "text": [
      "INSERT INTO `student_academic_details` VALUES ('600','1700AA000200','HSC / 12th (Sci); or Equivalent','B.C.G. Public H.S. School Dewas','Madhya Pradesh Board of Secondary Education, Bhopal',2016,'Science','FIRST','49.51067552809004','ENGLISH','\u0000',34,100,52,100,'Chemistry',58,100,'\u0000',NULL,NULL,NULL,NULL);\n",
      "INSERT INTO `student_academic_details` VALUES ('601','1700AA000201','HSC / 12th (Sci); or Equivalent','B.C.G. Public H.S. School Dewas','Madhya Pradesh Board of Secondary Education, Bhopal',2016,'Science','FIRST','49.86295555945154','ENGLISH','\u0000',34,100,52,100,'Chemistry',58,100,'\u0000',NULL,NULL,NULL,NULL);\n",
      "INSERT INTO `student_academic_details` VALUES ('602','1700AA000202','HSC / 12th (Sci); or Equivalent','B.C.G. Public H.S. School Dewas','Madhya Pradesh Board of Secondary Education, Bhopal',2016,'Science','FIRST','52.557141941560765','ENGLISH','\u0000',34,100,52,100,'Chemistry',58,100,'\u0000',NULL,NULL,NULL,NULL);\n",
      "INSERT INTO `student_academic_details` VALUES ('603','1700AA000203','HSC / 12th (Sci); or Equivalent','B.C.G. Public H.S. School Dewas','Madhya Pradesh Board of Secondary Education, Bhopal',2016,'Science','FIRST','52.12039872119986','ENGLISH','\u0000',34,100,52,100,'Chemistry',58,100,'\u0000',NULL,NULL,NULL,NULL);\n",
      "INSERT INTO `student_academic_details` VALUES ('604','1700AA000204','HSC / 12th (Sci); or Equivalent','B.C.G. Public H.S. School Dewas','Madhya Pradesh Board of Secondary Education, Bhopal',2016,'Science','FIRST','55.129350776128454','ENGLISH','\u0000',34,100,52,100,'Chemistry',58,100,'\u0000',NULL,NULL,NULL,NULL);\n",
      "INSERT INTO `student_academic_details` VALUES ('605','1700AA000205','HSC / 12th (Sci); or Equivalent','B.C.G. Public H.S. School Dewas','Madhya Pradesh Board of Secondary Education, Bhopal',2016,'Science','FIRST','54.17222319616484','ENGLISH','\u0000',34,100,52,100,'Chemistry',58,100,'\u0000',NULL,NULL,NULL,NULL);\n",
      "INSERT INTO `student_academic_details` VALUES ('606','1700AA000206','HSC / 12th (Sci); or Equivalent','B.C.G. Public H.S. School Dewas','Madhya Pradesh Board of Secondary Education, Bhopal',2016,'Science','FIRST','55.166256161334765','ENGLISH','\u0000',34,100,52,100,'Chemistry',58,100,'\u0000',NULL,NULL,NULL,NULL);\n",
      "INSERT INTO `student_academic_details` VALUES ('607','1700AA000207','HSC / 12th (Sci); or Equivalent','B.C.G. Public H.S. School Dewas','Madhya Pradesh Board of Secondary Education, Bhopal',2016,'Science','FIRST','56.47926643635157','ENGLISH','\u0000',34,100,52,100,'Chemistry',58,100,'\u0000',NULL,NULL,NULL,NULL);\n",
      "INSERT INTO `student_academic_details` VALUES ('608','1700AA000208','HSC / 12th (Sci); or Equivalent','B.C.G. Public H.S. School Dewas','Madhya Pradesh Board of Secondary Education, Bhopal',2016,'Science','FIRST','57.61331392553412','ENGLISH','\u0000',34,100,52,100,'Chemistry',58,100,'\u0000',NULL,NULL,NULL,NULL);\n",
      "INSERT INTO `student_academic_details` VALUES ('609','1700AA000209','HSC / 12th (Sci); or Equivalent','B.C.G. Public H.S. School Dewas','Madhya Pradesh Board of Secondary Education, Bhopal',2016,'Science','FIRST','58.37215926952783','ENGLISH','\u0000',34,100,52,100,'Chemistry',58,100,'\u0000',NULL,NULL,NULL,NULL);\n",
      "INSERT INTO `student_academic_details` VALUES ('610','1700AA000210','HSC / 12th (Sci); or Equivalent','B.C.G. Public H.S. School Dewas','Madhya Pradesh Board of Secondary Education, Bhopal',2016,'Science','FIRST','59.99219770630372','ENGLISH','\u0000',34,100,52,100,'Chemistry',58,100,'\u0000',NULL,NULL,NULL,NULL);\n",
      "INSERT INTO `student_academic_details` VALUES ('611','1700AA000211','HSC / 12th (Sci); or Equivalent','B.C.G. Public H.S. School Dewas','Madhya Pradesh Board of Secondary Education, Bhopal',2016,'Science','FIRST','61.18474807991205','ENGLISH','\u0000',34,100,52,100,'Chemistry',58,100,'\u0000',NULL,NULL,NULL,NULL);\n",
      "INSERT INTO `student_academic_details` VALUES ('612','1700AA000212','HSC / 12th (Sci); or Equivalent','B.C.G. Public H.S. School Dewas','Madhya Pradesh Board of Secondary Education, Bhopal',2016,'Science','FIRST','62.829071918953076','ENGLISH','\u0000',34,100,52,100,'Chemistry',58,100,'\u0000',NULL,NULL,NULL,NULL);\n",
      "INSERT INTO `student_academic_details` VALUES ('613','1700AA000213','HSC / 12th (Sci); or Equivalent','B.C.G. Public H.S. School Dewas','Madhya Pradesh Board of Secondary Education, Bhopal',2016,'Science','FIRST','58.32759739406558','ENGLISH','\u0000',34,100,52,100,'Chemistry',58,100,'\u0000',NULL,NULL,NULL,NULL);\n",
      "INSERT INTO `student_academic_details` VALUES ('614','1700AA000214','HSC / 12th (Sci); or Equivalent','B.C.G. Public H.S. School Dewas','Madhya Pradesh Board of Secondary Education, Bhopal',2016,'Science','FIRST','63.59669647172607','ENGLISH','\u0000',34,100,52,100,'Chemistry',58,100,'\u0000',NULL,NULL,NULL,NULL);\n",
      "INSERT INTO `student_academic_details` VALUES ('615','1700AA000215','HSC / 12th (Sci); or Equivalent','B.C.G. Public H.S. School Dewas','Madhya Pradesh Board of Secondary Education, Bhopal',2016,'Science','FIRST','64.7838180295324','ENGLISH','\u0000',34,100,52,100,'Chemistry',58,100,'\u0000',NULL,NULL,NULL,NULL);\n",
      "INSERT INTO `student_academic_details` VALUES ('616','1700AA000216','HSC / 12th (Sci); or Equivalent','B.C.G. Public H.S. School Dewas','Madhya Pradesh Board of Secondary Education, Bhopal',2016,'Science','FIRST','67.38919299632835','ENGLISH','\u0000',34,100,52,100,'Chemistry',58,100,'\u0000',NULL,NULL,NULL,NULL);\n",
      "INSERT INTO `student_academic_details` VALUES ('617','1700AA000217','HSC / 12th (Sci); or Equivalent','B.C.G. Public H.S. School Dewas','Madhya Pradesh Board of Secondary Education, Bhopal',2016,'Science','FIRST','66.71121038251081','ENGLISH','\u0000',34,100,52,100,'Chemistry',58,100,'\u0000',NULL,NULL,NULL,NULL);\n",
      "INSERT INTO `student_academic_details` VALUES ('618','1700AA000218','HSC / 12th (Sci); or Equivalent','B.C.G. Public H.S. School Dewas','Madhya Pradesh Board of Secondary Education, Bhopal',2016,'Science','FIRST','67.61349737972984','ENGLISH','\u0000',34,100,52,100,'Chemistry',58,100,'\u0000',NULL,NULL,NULL,NULL);\n",
      "INSERT INTO `student_academic_details` VALUES ('619','1700AA000219','HSC / 12th (Sci); or Equivalent','B.C.G. Public H.S. School Dewas','Madhya Pradesh Board of Secondary Education, Bhopal',2016,'Science','FIRST','68.17770373783722','ENGLISH','\u0000',34,100,52,100,'Chemistry',58,100,'\u0000',NULL,NULL,NULL,NULL);\n",
      "INSERT INTO `student_academic_details` VALUES ('620','1700AA000220','HSC / 12th (Sci); or Equivalent','B.C.G. Public H.S. School Dewas','Madhya Pradesh Board of Secondary Education, Bhopal',2016,'Science','FIRST','70.50319907850849','ENGLISH','\u0000',34,100,52,100,'Chemistry',58,100,'\u0000',NULL,NULL,NULL,NULL);\n",
      "INSERT INTO `student_academic_details` VALUES ('621','1700AA000221','HSC / 12th (Sci); or Equivalent','B.C.G. Public H.S. School Dewas','Madhya Pradesh Board of Secondary Education, Bhopal',2016,'Science','FIRST','70.79956431357252','ENGLISH','\u0000',34,100,52,100,'Chemistry',58,100,'\u0000',NULL,NULL,NULL,NULL);\n",
      "INSERT INTO `student_academic_details` VALUES ('622','1700AA000222','HSC / 12th (Sci); or Equivalent','B.C.G. Public H.S. School Dewas','Madhya Pradesh Board of Secondary Education, Bhopal',2016,'Science','FIRST','70.64662581232177','ENGLISH','\u0000',34,100,52,100,'Chemistry',58,100,'\u0000',NULL,NULL,NULL,NULL);\n",
      "INSERT INTO `student_academic_details` VALUES ('623','1700AA000223','HSC / 12th (Sci); or Equivalent','B.C.G. Public H.S. School Dewas','Madhya Pradesh Board of Secondary Education, Bhopal',2016,'Science','FIRST','72.55427791222121','ENGLISH','\u0000',34,100,52,100,'Chemistry',58,100,'\u0000',NULL,NULL,NULL,NULL);\n",
      "INSERT INTO `student_academic_details` VALUES ('624','1700AA000224','HSC / 12th (Sci); or Equivalent','B.C.G. Public H.S. School Dewas','Madhya Pradesh Board of Secondary Education, Bhopal',2016,'Science','FIRST','71.71150829505223','ENGLISH','\u0000',34,100,52,100,'Chemistry',58,100,'\u0000',NULL,NULL,NULL,NULL);\n",
      "INSERT INTO `student_academic_details` VALUES ('625','1700AA000225','HSC / 12th (Sci); or Equivalent','B.C.G. Public H.S. School Dewas','Madhya Pradesh Board of Secondary Education, Bhopal',2016,'Science','FIRST','76.15788867183734','ENGLISH','\u0000',34,100,52,100,'Chemistry',58,100,'\u0000',NULL,NULL,NULL,NULL);\n",
      "INSERT INTO `student_academic_details` VALUES ('626','1700AA000226','HSC / 12th (Sci); or Equivalent','B.C.G. Public H.S. School Dewas','Madhya Pradesh Board of Secondary Education, Bhopal',2016,'Science','FIRST','75.2240753612327','ENGLISH','\u0000',34,100,52,100,'Chemistry',58,100,'\u0000',NULL,NULL,NULL,NULL);\n",
      "INSERT INTO `student_academic_details` VALUES ('627','1700AA000227','HSC / 12th (Sci); or Equivalent','B.C.G. Public H.S. School Dewas','Madhya Pradesh Board of Secondary Education, Bhopal',2016,'Science','FIRST','75.61383338145792','ENGLISH','\u0000',34,100,52,100,'Chemistry',58,100,'\u0000',NULL,NULL,NULL,NULL);\n",
      "INSERT INTO `student_academic_details` VALUES ('628','1700AA000228','HSC / 12th (Sci); or Equivalent','B.C.G. Public H.S. School Dewas','Madhya Pradesh Board of Secondary Education, Bhopal',2016,'Science','FIRST','75.8321390246266','ENGLISH','\u0000',34,100,52,100,'Chemistry',58,100,'\u0000',NULL,NULL,NULL,NULL);\n",
      "INSERT INTO `student_academic_details` VALUES ('629','1700AA000229','HSC / 12th (Sci); or Equivalent','B.C.G. Public H.S. School Dewas','Madhya Pradesh Board of Secondary Education, Bhopal',2016,'Science','FIRST','78.84922225638178','ENGLISH','\u0000',34,100,52,100,'Chemistry',58,100,'\u0000',NULL,NULL,NULL,NULL);\n",
      "INSERT INTO `student_academic_details` VALUES ('630','1700AA000230','HSC / 12th (Sci); or Equivalent','B.C.G. Public H.S. School Dewas','Madhya Pradesh Board of Secondary Education, Bhopal',2016,'Science','FIRST','80.23438176389658','ENGLISH','\u0000',34,100,52,100,'Chemistry',58,100,'\u0000',NULL,NULL,NULL,NULL);\n",
      "INSERT INTO `student_academic_details` VALUES ('631','1700AA000231','HSC / 12th (Sci); or Equivalent','B.C.G. Public H.S. School Dewas','Madhya Pradesh Board of Secondary Education, Bhopal',2016,'Science','FIRST','81.64560758915509','ENGLISH','\u0000',34,100,52,100,'Chemistry',58,100,'\u0000',NULL,NULL,NULL,NULL);\n",
      "INSERT INTO `student_academic_details` VALUES ('632','1700AA000232','HSC / 12th (Sci); or Equivalent','B.C.G. Public H.S. School Dewas','Madhya Pradesh Board of Secondary Education, Bhopal',2016,'Science','FIRST','80.62068630736054','ENGLISH','\u0000',34,100,52,100,'Chemistry',58,100,'\u0000',NULL,NULL,NULL,NULL);\n",
      "INSERT INTO `student_academic_details` VALUES ('633','1700AA000233','HSC / 12th (Sci); or Equivalent','B.C.G. Public H.S. School Dewas','Madhya Pradesh Board of Secondary Education, Bhopal',2016,'Science','FIRST','81.24368059986931','ENGLISH','\u0000',34,100,52,100,'Chemistry',58,100,'\u0000',NULL,NULL,NULL,NULL);\n",
      "INSERT INTO `student_academic_details` VALUES ('634','1700AA000234','HSC / 12th (Sci); or Equivalent','B.C.G. Public H.S. School Dewas','Madhya Pradesh Board of Secondary Education, Bhopal',2016,'Science','FIRST','81.49307319323093','ENGLISH','\u0000',34,100,52,100,'Chemistry',58,100,'\u0000',NULL,NULL,NULL,NULL);\n",
      "INSERT INTO `student_academic_details` VALUES ('635','1700AA000235','HSC / 12th (Sci); or Equivalent','B.C.G. Public H.S. School Dewas','Madhya Pradesh Board of Secondary Education, Bhopal',2016,'Science','FIRST','85.7062095449527','ENGLISH','\u0000',34,100,52,100,'Chemistry',58,100,'\u0000',NULL,NULL,NULL,NULL);\n",
      "INSERT INTO `student_academic_details` VALUES ('636','1700AA000236','HSC / 12th (Sci); or Equivalent','B.C.G. Public H.S. School Dewas','Madhya Pradesh Board of Secondary Education, Bhopal',2016,'Science','FIRST','82.04343282060665','ENGLISH','\u0000',34,100,52,100,'Chemistry',58,100,'\u0000',NULL,NULL,NULL,NULL);\n",
      "INSERT INTO `student_academic_details` VALUES ('637','1700AA000237','HSC / 12th (Sci); or Equivalent','B.C.G. Public H.S. School Dewas','Madhya Pradesh Board of Secondary Education, Bhopal',2016,'Science','FIRST','85.71287235318968','ENGLISH','\u0000',34,100,52,100,'Chemistry',58,100,'\u0000',NULL,NULL,NULL,NULL);\n",
      "INSERT INTO `student_academic_details` VALUES ('638','1700AA000238','HSC / 12th (Sci); or Equivalent','B.C.G. Public H.S. School Dewas','Madhya Pradesh Board of Secondary Education, Bhopal',2016,'Science','FIRST','86.92375150260324','ENGLISH','\u0000',34,100,52,100,'Chemistry',58,100,'\u0000',NULL,NULL,NULL,NULL);\n",
      "INSERT INTO `student_academic_details` VALUES ('639','1700AA000239','HSC / 12th (Sci); or Equivalent','B.C.G. Public H.S. School Dewas','Madhya Pradesh Board of Secondary Education, Bhopal',2016,'Science','FIRST','86.53748308440517','ENGLISH','\u0000',34,100,52,100,'Chemistry',58,100,'\u0000',NULL,NULL,NULL,NULL);\n",
      "INSERT INTO `student_academic_details` VALUES ('640','1700AA000240','HSC / 12th (Sci); or Equivalent','B.C.G. Public H.S. School Dewas','Madhya Pradesh Board of Secondary Education, Bhopal',2016,'Science','FIRST','88.64656185663367','ENGLISH','\u0000',34,100,52,100,'Chemistry',58,100,'\u0000',NULL,NULL,NULL,NULL);\n",
      "INSERT INTO `student_academic_details` VALUES ('641','1700AA000241','HSC / 12th (Sci); or Equivalent','B.C.G. Public H.S. School Dewas','Madhya Pradesh Board of Secondary Education, Bhopal',2016,'Science','FIRST','89.66998513437485','ENGLISH','\u0000',34,100,52,100,'Chemistry',58,100,'\u0000',NULL,NULL,NULL,NULL);\n",
      "INSERT INTO `student_academic_details` VALUES ('642','1700AA000242','HSC / 12th (Sci); or Equivalent','B.C.G. Public H.S. School Dewas','Madhya Pradesh Board of Secondary Education, Bhopal',2016,'Science','FIRST','91.06980972945273','ENGLISH','\u0000',34,100,52,100,'Chemistry',58,100,'\u0000',NULL,NULL,NULL,NULL);\n",
      "INSERT INTO `student_academic_details` VALUES ('643','1700AA000243','HSC / 12th (Sci); or Equivalent','B.C.G. Public H.S. School Dewas','Madhya Pradesh Board of Secondary Education, Bhopal',2016,'Science','FIRST','91.9243321309463','ENGLISH','\u0000',34,100,52,100,'Chemistry',58,100,'\u0000',NULL,NULL,NULL,NULL);\n",
      "INSERT INTO `student_academic_details` VALUES ('644','1700AA000244','HSC / 12th (Sci); or Equivalent','B.C.G. Public H.S. School Dewas','Madhya Pradesh Board of Secondary Education, Bhopal',2016,'Science','FIRST','91.67332219557349','ENGLISH','\u0000',34,100,52,100,'Chemistry',58,100,'\u0000',NULL,NULL,NULL,NULL);\n",
      "INSERT INTO `student_academic_details` VALUES ('645','1700AA000245','HSC / 12th (Sci); or Equivalent','B.C.G. Public H.S. School Dewas','Madhya Pradesh Board of Secondary Education, Bhopal',2016,'Science','FIRST','93.74228109027511','ENGLISH','\u0000',34,100,52,100,'Chemistry',58,100,'\u0000',NULL,NULL,NULL,NULL);\n",
      "INSERT INTO `student_academic_details` VALUES ('646','1700AA000246','HSC / 12th (Sci); or Equivalent','B.C.G. Public H.S. School Dewas','Madhya Pradesh Board of Secondary Education, Bhopal',2016,'Science','FIRST','94.85706957037993','ENGLISH','\u0000',34,100,52,100,'Chemistry',58,100,'\u0000',NULL,NULL,NULL,NULL);\n",
      "INSERT INTO `student_academic_details` VALUES ('647','1700AA000247','HSC / 12th (Sci); or Equivalent','B.C.G. Public H.S. School Dewas','Madhya Pradesh Board of Secondary Education, Bhopal',2016,'Science','FIRST','94.04641759183515','ENGLISH','\u0000',34,100,52,100,'Chemistry',58,100,'\u0000',NULL,NULL,NULL,NULL);\n",
      "INSERT INTO `student_academic_details` VALUES ('648','1700AA000248','HSC / 12th (Sci); or Equivalent','B.C.G. Public H.S. School Dewas','Madhya Pradesh Board of Secondary Education, Bhopal',2016,'Science','FIRST','95.540946764473','ENGLISH','\u0000',34,100,52,100,'Chemistry',58,100,'\u0000',NULL,NULL,NULL,NULL);\n",
      "INSERT INTO `student_academic_details` VALUES ('649','1700AA000249','HSC / 12th (Sci); or Equivalent','B.C.G. Public H.S. School Dewas','Madhya Pradesh Board of Secondary Education, Bhopal',2016,'Science','FIRST','97.12530279351633','ENGLISH','\u0000',34,100,52,100,'Chemistry',58,100,'\u0000',NULL,NULL,NULL,NULL);\n"
     ]
    }
   ],
   "source": [
    "seq=np.random.randn(50)\n",
    "j=np.linspace(50, 97.5, 50) \n",
    "data=j+seq \n",
    "for i in range(200, 250):\n",
    "    if data[i-200]>100:\n",
    "        data[i-200]=100\n",
    "    q=\"INSERT INTO `student_academic_details` VALUES ('\"+str(i+400)+\"','1700AA000\"+str(i)+\"','HSC / 12th (Sci); or Equivalent','B.C.G. Public H.S. School Dewas','Madhya Pradesh Board of Secondary Education, Bhopal',2016,'Science','FIRST','\"+str(data[i-200])+\"','ENGLISH','\\0',34,100,52,100,'Chemistry',58,100,'\\0',NULL,NULL,NULL,NULL);\"\n",
    "    print(q)\n"
   ]
  },
  {
   "cell_type": "code",
   "execution_count": 93,
   "metadata": {},
   "outputs": [
    {
     "ename": "ImproperlyConfigured",
     "evalue": "Requested setting DATABASES, but settings are not configured. You must either define the environment variable DJANGO_SETTINGS_MODULE or call settings.configure() before accessing settings.",
     "output_type": "error",
     "traceback": [
      "\u001b[1;31m---------------------------------------------------------------------------\u001b[0m",
      "\u001b[1;31mImproperlyConfigured\u001b[0m                      Traceback (most recent call last)",
      "\u001b[1;32m<ipython-input-93-22735effc0bf>\u001b[0m in \u001b[0;36m<module>\u001b[1;34m\u001b[0m\n\u001b[0;32m      1\u001b[0m \u001b[1;32mfrom\u001b[0m \u001b[0mdjango\u001b[0m\u001b[1;33m.\u001b[0m\u001b[0mdb\u001b[0m \u001b[1;32mimport\u001b[0m \u001b[0mconnections\u001b[0m\u001b[1;33m\u001b[0m\u001b[1;33m\u001b[0m\u001b[0m\n\u001b[1;32m----> 2\u001b[1;33m \u001b[0mcursor\u001b[0m \u001b[1;33m=\u001b[0m \u001b[0mconnections\u001b[0m\u001b[1;33m[\u001b[0m\u001b[1;34m'studentanalytics'\u001b[0m\u001b[1;33m]\u001b[0m\u001b[1;33m.\u001b[0m\u001b[0mcursor\u001b[0m\u001b[1;33m(\u001b[0m\u001b[1;33m)\u001b[0m\u001b[1;33m\u001b[0m\u001b[1;33m\u001b[0m\u001b[0m\n\u001b[0m\u001b[0;32m      3\u001b[0m \u001b[1;33m\u001b[0m\u001b[0m\n",
      "\u001b[1;32mc:\\users\\it\\appdata\\local\\programs\\python\\python37-32\\lib\\site-packages\\django\\db\\utils.py\u001b[0m in \u001b[0;36m__getitem__\u001b[1;34m(self, alias)\u001b[0m\n\u001b[0;32m    197\u001b[0m             \u001b[1;32mreturn\u001b[0m \u001b[0mgetattr\u001b[0m\u001b[1;33m(\u001b[0m\u001b[0mself\u001b[0m\u001b[1;33m.\u001b[0m\u001b[0m_connections\u001b[0m\u001b[1;33m,\u001b[0m \u001b[0malias\u001b[0m\u001b[1;33m)\u001b[0m\u001b[1;33m\u001b[0m\u001b[1;33m\u001b[0m\u001b[0m\n\u001b[0;32m    198\u001b[0m \u001b[1;33m\u001b[0m\u001b[0m\n\u001b[1;32m--> 199\u001b[1;33m         \u001b[0mself\u001b[0m\u001b[1;33m.\u001b[0m\u001b[0mensure_defaults\u001b[0m\u001b[1;33m(\u001b[0m\u001b[0malias\u001b[0m\u001b[1;33m)\u001b[0m\u001b[1;33m\u001b[0m\u001b[1;33m\u001b[0m\u001b[0m\n\u001b[0m\u001b[0;32m    200\u001b[0m         \u001b[0mself\u001b[0m\u001b[1;33m.\u001b[0m\u001b[0mprepare_test_settings\u001b[0m\u001b[1;33m(\u001b[0m\u001b[0malias\u001b[0m\u001b[1;33m)\u001b[0m\u001b[1;33m\u001b[0m\u001b[1;33m\u001b[0m\u001b[0m\n\u001b[0;32m    201\u001b[0m         \u001b[0mdb\u001b[0m \u001b[1;33m=\u001b[0m \u001b[0mself\u001b[0m\u001b[1;33m.\u001b[0m\u001b[0mdatabases\u001b[0m\u001b[1;33m[\u001b[0m\u001b[0malias\u001b[0m\u001b[1;33m]\u001b[0m\u001b[1;33m\u001b[0m\u001b[1;33m\u001b[0m\u001b[0m\n",
      "\u001b[1;32mc:\\users\\it\\appdata\\local\\programs\\python\\python37-32\\lib\\site-packages\\django\\db\\utils.py\u001b[0m in \u001b[0;36mensure_defaults\u001b[1;34m(self, alias)\u001b[0m\n\u001b[0;32m    165\u001b[0m         \"\"\"\n\u001b[0;32m    166\u001b[0m         \u001b[1;32mtry\u001b[0m\u001b[1;33m:\u001b[0m\u001b[1;33m\u001b[0m\u001b[1;33m\u001b[0m\u001b[0m\n\u001b[1;32m--> 167\u001b[1;33m             \u001b[0mconn\u001b[0m \u001b[1;33m=\u001b[0m \u001b[0mself\u001b[0m\u001b[1;33m.\u001b[0m\u001b[0mdatabases\u001b[0m\u001b[1;33m[\u001b[0m\u001b[0malias\u001b[0m\u001b[1;33m]\u001b[0m\u001b[1;33m\u001b[0m\u001b[1;33m\u001b[0m\u001b[0m\n\u001b[0m\u001b[0;32m    168\u001b[0m         \u001b[1;32mexcept\u001b[0m \u001b[0mKeyError\u001b[0m\u001b[1;33m:\u001b[0m\u001b[1;33m\u001b[0m\u001b[1;33m\u001b[0m\u001b[0m\n\u001b[0;32m    169\u001b[0m             \u001b[1;32mraise\u001b[0m \u001b[0mConnectionDoesNotExist\u001b[0m\u001b[1;33m(\u001b[0m\u001b[1;34m\"The connection %s doesn't exist\"\u001b[0m \u001b[1;33m%\u001b[0m \u001b[0malias\u001b[0m\u001b[1;33m)\u001b[0m\u001b[1;33m\u001b[0m\u001b[1;33m\u001b[0m\u001b[0m\n",
      "\u001b[1;32mc:\\users\\it\\appdata\\local\\programs\\python\\python37-32\\lib\\site-packages\\django\\utils\\functional.py\u001b[0m in \u001b[0;36m__get__\u001b[1;34m(self, instance, cls)\u001b[0m\n\u001b[0;32m     35\u001b[0m         \u001b[1;32mif\u001b[0m \u001b[0minstance\u001b[0m \u001b[1;32mis\u001b[0m \u001b[1;32mNone\u001b[0m\u001b[1;33m:\u001b[0m\u001b[1;33m\u001b[0m\u001b[1;33m\u001b[0m\u001b[0m\n\u001b[0;32m     36\u001b[0m             \u001b[1;32mreturn\u001b[0m \u001b[0mself\u001b[0m\u001b[1;33m\u001b[0m\u001b[1;33m\u001b[0m\u001b[0m\n\u001b[1;32m---> 37\u001b[1;33m         \u001b[0mres\u001b[0m \u001b[1;33m=\u001b[0m \u001b[0minstance\u001b[0m\u001b[1;33m.\u001b[0m\u001b[0m__dict__\u001b[0m\u001b[1;33m[\u001b[0m\u001b[0mself\u001b[0m\u001b[1;33m.\u001b[0m\u001b[0mname\u001b[0m\u001b[1;33m]\u001b[0m \u001b[1;33m=\u001b[0m \u001b[0mself\u001b[0m\u001b[1;33m.\u001b[0m\u001b[0mfunc\u001b[0m\u001b[1;33m(\u001b[0m\u001b[0minstance\u001b[0m\u001b[1;33m)\u001b[0m\u001b[1;33m\u001b[0m\u001b[1;33m\u001b[0m\u001b[0m\n\u001b[0m\u001b[0;32m     38\u001b[0m         \u001b[1;32mreturn\u001b[0m \u001b[0mres\u001b[0m\u001b[1;33m\u001b[0m\u001b[1;33m\u001b[0m\u001b[0m\n\u001b[0;32m     39\u001b[0m \u001b[1;33m\u001b[0m\u001b[0m\n",
      "\u001b[1;32mc:\\users\\it\\appdata\\local\\programs\\python\\python37-32\\lib\\site-packages\\django\\db\\utils.py\u001b[0m in \u001b[0;36mdatabases\u001b[1;34m(self)\u001b[0m\n\u001b[0;32m    145\u001b[0m     \u001b[1;32mdef\u001b[0m \u001b[0mdatabases\u001b[0m\u001b[1;33m(\u001b[0m\u001b[0mself\u001b[0m\u001b[1;33m)\u001b[0m\u001b[1;33m:\u001b[0m\u001b[1;33m\u001b[0m\u001b[1;33m\u001b[0m\u001b[0m\n\u001b[0;32m    146\u001b[0m         \u001b[1;32mif\u001b[0m \u001b[0mself\u001b[0m\u001b[1;33m.\u001b[0m\u001b[0m_databases\u001b[0m \u001b[1;32mis\u001b[0m \u001b[1;32mNone\u001b[0m\u001b[1;33m:\u001b[0m\u001b[1;33m\u001b[0m\u001b[1;33m\u001b[0m\u001b[0m\n\u001b[1;32m--> 147\u001b[1;33m             \u001b[0mself\u001b[0m\u001b[1;33m.\u001b[0m\u001b[0m_databases\u001b[0m \u001b[1;33m=\u001b[0m \u001b[0msettings\u001b[0m\u001b[1;33m.\u001b[0m\u001b[0mDATABASES\u001b[0m\u001b[1;33m\u001b[0m\u001b[1;33m\u001b[0m\u001b[0m\n\u001b[0m\u001b[0;32m    148\u001b[0m         \u001b[1;32mif\u001b[0m \u001b[0mself\u001b[0m\u001b[1;33m.\u001b[0m\u001b[0m_databases\u001b[0m \u001b[1;33m==\u001b[0m \u001b[1;33m{\u001b[0m\u001b[1;33m}\u001b[0m\u001b[1;33m:\u001b[0m\u001b[1;33m\u001b[0m\u001b[1;33m\u001b[0m\u001b[0m\n\u001b[0;32m    149\u001b[0m             self._databases = {\n",
      "\u001b[1;32mc:\\users\\it\\appdata\\local\\programs\\python\\python37-32\\lib\\site-packages\\django\\conf\\__init__.py\u001b[0m in \u001b[0;36m__getattr__\u001b[1;34m(self, name)\u001b[0m\n\u001b[0;32m     55\u001b[0m         \u001b[1;34m\"\"\"Return the value of a setting and cache it in self.__dict__.\"\"\"\u001b[0m\u001b[1;33m\u001b[0m\u001b[1;33m\u001b[0m\u001b[0m\n\u001b[0;32m     56\u001b[0m         \u001b[1;32mif\u001b[0m \u001b[0mself\u001b[0m\u001b[1;33m.\u001b[0m\u001b[0m_wrapped\u001b[0m \u001b[1;32mis\u001b[0m \u001b[0mempty\u001b[0m\u001b[1;33m:\u001b[0m\u001b[1;33m\u001b[0m\u001b[1;33m\u001b[0m\u001b[0m\n\u001b[1;32m---> 57\u001b[1;33m             \u001b[0mself\u001b[0m\u001b[1;33m.\u001b[0m\u001b[0m_setup\u001b[0m\u001b[1;33m(\u001b[0m\u001b[0mname\u001b[0m\u001b[1;33m)\u001b[0m\u001b[1;33m\u001b[0m\u001b[1;33m\u001b[0m\u001b[0m\n\u001b[0m\u001b[0;32m     58\u001b[0m         \u001b[0mval\u001b[0m \u001b[1;33m=\u001b[0m \u001b[0mgetattr\u001b[0m\u001b[1;33m(\u001b[0m\u001b[0mself\u001b[0m\u001b[1;33m.\u001b[0m\u001b[0m_wrapped\u001b[0m\u001b[1;33m,\u001b[0m \u001b[0mname\u001b[0m\u001b[1;33m)\u001b[0m\u001b[1;33m\u001b[0m\u001b[1;33m\u001b[0m\u001b[0m\n\u001b[0;32m     59\u001b[0m         \u001b[0mself\u001b[0m\u001b[1;33m.\u001b[0m\u001b[0m__dict__\u001b[0m\u001b[1;33m[\u001b[0m\u001b[0mname\u001b[0m\u001b[1;33m]\u001b[0m \u001b[1;33m=\u001b[0m \u001b[0mval\u001b[0m\u001b[1;33m\u001b[0m\u001b[1;33m\u001b[0m\u001b[0m\n",
      "\u001b[1;32mc:\\users\\it\\appdata\\local\\programs\\python\\python37-32\\lib\\site-packages\\django\\conf\\__init__.py\u001b[0m in \u001b[0;36m_setup\u001b[1;34m(self, name)\u001b[0m\n\u001b[0;32m     40\u001b[0m                 \u001b[1;34m\"You must either define the environment variable %s \"\u001b[0m\u001b[1;33m\u001b[0m\u001b[1;33m\u001b[0m\u001b[0m\n\u001b[0;32m     41\u001b[0m                 \u001b[1;34m\"or call settings.configure() before accessing settings.\"\u001b[0m\u001b[1;33m\u001b[0m\u001b[1;33m\u001b[0m\u001b[0m\n\u001b[1;32m---> 42\u001b[1;33m                 % (desc, ENVIRONMENT_VARIABLE))\n\u001b[0m\u001b[0;32m     43\u001b[0m \u001b[1;33m\u001b[0m\u001b[0m\n\u001b[0;32m     44\u001b[0m         \u001b[0mself\u001b[0m\u001b[1;33m.\u001b[0m\u001b[0m_wrapped\u001b[0m \u001b[1;33m=\u001b[0m \u001b[0mSettings\u001b[0m\u001b[1;33m(\u001b[0m\u001b[0msettings_module\u001b[0m\u001b[1;33m)\u001b[0m\u001b[1;33m\u001b[0m\u001b[1;33m\u001b[0m\u001b[0m\n",
      "\u001b[1;31mImproperlyConfigured\u001b[0m: Requested setting DATABASES, but settings are not configured. You must either define the environment variable DJANGO_SETTINGS_MODULE or call settings.configure() before accessing settings."
     ]
    }
   ],
   "source": [
    "from django.db import connections\n",
    "cursor = connections['studentanalytics'].cursor()\n",
    "\n"
   ]
  },
  {
   "cell_type": "code",
   "execution_count": 78,
   "metadata": {},
   "outputs": [
    {
     "name": "stdout",
     "output_type": "stream",
     "text": [
      "(151,)\n"
     ]
    }
   ],
   "source": [
    "mycursor.execute(\"SELECT count(*) FROM srm_gradecard_issued srm, student_academic_details student, student_master sm WHERE sm.student_ID=srm.StudentID AND sm.student_ID=student.Student_ID AND srm.StudentID=student.Student_ID\")\n",
    "\n",
    "myresult = mycursor.fetchall()\n",
    "mydb.commit()\n",
    "\n",
    "for x in myresult:\n",
    "    print(x)"
   ]
  },
  {
   "cell_type": "code",
   "execution_count": null,
   "metadata": {},
   "outputs": [],
   "source": []
  },
  {
   "cell_type": "code",
   "execution_count": null,
   "metadata": {},
   "outputs": [],
   "source": []
  }
 ],
 "metadata": {
  "kernelspec": {
   "display_name": "Python 3",
   "language": "python",
   "name": "python3"
  },
  "language_info": {
   "codemirror_mode": {
    "name": "ipython",
    "version": 3
   },
   "file_extension": ".py",
   "mimetype": "text/x-python",
   "name": "python",
   "nbconvert_exporter": "python",
   "pygments_lexer": "ipython3",
   "version": "3.7.2"
  }
 },
 "nbformat": 4,
 "nbformat_minor": 2
}
